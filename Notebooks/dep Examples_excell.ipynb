{
 "cells": [
  {
   "cell_type": "code",
   "execution_count": 1,
   "metadata": {},
   "outputs": [],
   "source": [
    "\n",
    "import sys\n",
    "sys.path.append('../Tools/')\n",
    "sys.path.append('../Examples/')\n",
    "\n",
    "import excel_interface as xli\n",
    "import networkx as nx\n",
    "import pandas as pd\n",
    "import numpy as np\n",
    "import matplotlib.pyplot as plt\n",
    "import DependencyIndex as dpi"
   ]
  },
  {
   "cell_type": "code",
   "execution_count": 2,
   "metadata": {},
   "outputs": [],
   "source": [
    "#input the file name\n",
    "my_interfacer=xli.NDI_Interfacer('../Examples/Example_Drone.xlsx')\n",
    "\n",
    "#To build the adverse Effect Dependencies\n",
    "my_interfacer.dsmBuilder()\n",
    "\n",
    "#To find the \"total\" level of dependencies in the system\n",
    "my_interfacer.sysAnalysis()"
   ]
  },
  {
   "cell_type": "code",
   "execution_count": 4,
   "metadata": {},
   "outputs": [],
   "source": [
    "#input the file name\n",
    "my_interfacer2=xli.Interactions_Interfacer('../Examples/Example_Car.xlsx')\n",
    "\n",
    "#To build the adverse Effect Dependencies\n",
    "my_interfacer2.dsmBuilder()\n",
    "\n",
    "#To find the \"total\" level of dependencies in the system\n",
    "my_interfacer2.sysAnalysis()"
   ]
  },
  {
   "cell_type": "code",
   "execution_count": null,
   "metadata": {
    "collapsed": true
   },
   "outputs": [],
   "source": []
  }
 ],
 "metadata": {
  "kernelspec": {
   "display_name": "Python 3",
   "language": "python",
   "name": "python3"
  },
  "language_info": {
   "codemirror_mode": {
    "name": "ipython",
    "version": 3
   },
   "file_extension": ".py",
   "mimetype": "text/x-python",
   "name": "python",
   "nbconvert_exporter": "python",
   "pygments_lexer": "ipython3",
   "version": "3.6.3"
  }
 },
 "nbformat": 4,
 "nbformat_minor": 1
}
